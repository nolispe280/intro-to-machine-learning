{
  "nbformat": 4,
  "nbformat_minor": 0,
  "metadata": {
    "colab": {
      "name": "testKaisensData.ipynb",
      "provenance": [],
      "authorship_tag": "ABX9TyNIywrMhLDG4CdlBdt1PcFN",
      "include_colab_link": true
    },
    "kernelspec": {
      "name": "python3",
      "display_name": "Python 3"
    }
  },
  "cells": [
    {
      "cell_type": "markdown",
      "metadata": {
        "id": "view-in-github",
        "colab_type": "text"
      },
      "source": [
        "<a href=\"https://colab.research.google.com/github/soumabkargit/intro-to-machine-learning/blob/master/testKaisensData.ipynb\" target=\"_parent\"><img src=\"https://colab.research.google.com/assets/colab-badge.svg\" alt=\"Open In Colab\"/></a>"
      ]
    },
    {
      "cell_type": "code",
      "metadata": {
        "id": "hNYDUQIYsU6Y",
        "colab_type": "code",
        "colab": {}
      },
      "source": [
        "!pip install datefinder\n",
        "\n",
        "import re\n",
        "import datefinder"
      ],
      "execution_count": 0,
      "outputs": []
    },
    {
      "cell_type": "code",
      "metadata": {
        "id": "MtKxZ_MD1I7U",
        "colab_type": "code",
        "colab": {}
      },
      "source": [
        "def match1(string):\n",
        "  res = re.search('(ab*)+', string)\n",
        "  return res\n",
        "\n",
        "text = 'zertyabtgyhavghbnabAezrtycvfgvghvgZertyuCcfvghbnjTftgvybhnYvgbhnjDFDFGazA'\n",
        "print(match2(text))"
      ],
      "execution_count": 0,
      "outputs": []
    },
    {
      "cell_type": "code",
      "metadata": {
        "id": "xmSsrA-R25ZO",
        "colab_type": "code",
        "colab": {}
      },
      "source": [
        "def match2(string):\n",
        "  \"\"\"return array of sequence found\"\"\"\n",
        "  res = re.findall('[A-Z]{1}[a-z]+', string)\n",
        "  return res\n",
        "\n",
        "text = 'zertyabtgyhavghbnabAezrtycvfgvghvgZertyuCcfvghbnjTftgvybhnYvgbhnjDFDFGazA'\n",
        "print(match2(text))"
      ],
      "execution_count": 0,
      "outputs": []
    },
    {
      "cell_type": "code",
      "metadata": {
        "id": "NdoE_dnM3AjW",
        "colab_type": "code",
        "colab": {}
      },
      "source": [
        "def match3(string):\n",
        "  res = re.findall('a{1}.+b$', string)\n",
        "  return res\n",
        "\n",
        "text = 'zertyabtgyhavghbnabAezrtycvfgvghvgZertyuCcfvghbnjTftgvybhnYvgbhnjDFDFGazA'\n",
        "print(match2(text))"
      ],
      "execution_count": 0,
      "outputs": []
    },
    {
      "cell_type": "code",
      "metadata": {
        "id": "2M27RTHW3d-j",
        "colab_type": "code",
        "colab": {}
      },
      "source": [
        "def custom_spliter(string, delimiters):\n",
        "  return re.split(delimiters, string)\n",
        "\n",
        "text = 'mariam , joue; à ! la balle.'\n",
        "print(custom_spliter(text,', |; |!'))"
      ],
      "execution_count": 0,
      "outputs": []
    },
    {
      "cell_type": "code",
      "metadata": {
        "id": "HOmOA9EgH51g",
        "colab_type": "code",
        "colab": {}
      },
      "source": [
        ""
      ],
      "execution_count": 0,
      "outputs": []
    },
    {
      "cell_type": "code",
      "metadata": {
        "id": "y2g-d2x03j7f",
        "colab_type": "code",
        "colab": {}
      },
      "source": [
        "def getAllTimes(string):\n",
        "  res = datefinder.find_dates(string)\n",
        "  for match in res:\n",
        "    print (match)\n",
        "\n",
        "text = 'zertyabtgyhavghbnabAezrtycvfgvghvgZertyuCcfvghbnjTftgvybhnYvgbhnjDFDFGazA'\n",
        "print(match2(text))"
      ],
      "execution_count": 0,
      "outputs": []
    }
  ]
}