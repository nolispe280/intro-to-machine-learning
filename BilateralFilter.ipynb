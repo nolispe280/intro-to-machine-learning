{
  "nbformat": 4,
  "nbformat_minor": 0,
  "metadata": {
    "colab": {
      "name": "Untitled5.ipynb",
      "provenance": [],
      "include_colab_link": true
    },
    "kernelspec": {
      "name": "python3",
      "display_name": "Python 3"
    }
  },
  "cells": [
    {
      "cell_type": "markdown",
      "metadata": {
        "id": "view-in-github",
        "colab_type": "text"
      },
      "source": [
        "<a href=\"https://colab.research.google.com/github/soumabkargit/intro-to-machine-learning/blob/master/BilateralFilter.ipynb\" target=\"_parent\"><img src=\"https://colab.research.google.com/assets/colab-badge.svg\" alt=\"Open In Colab\"/></a>"
      ]
    },
    {
      "cell_type": "code",
      "metadata": {
        "id": "2A8okd1AYfSh",
        "colab_type": "code",
        "colab": {}
      },
      "source": [
        "#Import libraries\n",
        "from pydrive.auth import GoogleAuth\n",
        "from pydrive.drive import GoogleDrive\n",
        "from google.colab import auth\n",
        "from oauth2client.client import GoogleCredentials\n",
        "import cv2\n",
        "import numpy as np\n",
        "\n",
        "# Authentification Google\n",
        "auth.authenticate_user()\n",
        "gauth = GoogleAuth()\n",
        "gauth.credentials = GoogleCredentials.get_application_default()\n",
        "drive = GoogleDrive(gauth)\n",
        "\n",
        "# Download du fichier\n",
        "id = '1T0LqOHztZ1wpVl8O4u-qxcQ_kiwDehbb'\n",
        "downloaded = drive.CreateFile({'id': '1T0LqOHztZ1wpVl8O4u-qxcQ_kiwDehbb'})\n",
        "downloaded.GetContentFile('test_2.jpg')\n",
        "\n",
        "#Read images for different blurring purposes\n",
        "image_Original = cv2.imread(\"test_2.jpg\")\n",
        "image_MedianBlur = cv2.imread(\"test_2.jpg\")\n",
        "image_GaussianBlur = cv2.imread(\"test_2.jpg\")\n",
        "image_BilateralBlur = cv2.imread(\"test_2.jpg\")\n",
        "\n",
        "#Blur images\n",
        "image_MedianBlur=cv2.medianBlur(image_MedianBlur,9)\n",
        "image_GaussianBlur=cv2.GaussianBlur(image_GaussianBlur,(9,9),10)\n",
        "image_BilateralBlur=cv2.bilateralFilter(image_BilateralBlur,9,100,75)\n",
        "\n",
        "#Show images\n",
        "figure(0)\n",
        "io.imshow(image_Original)\n",
        "figure(1)\n",
        "io.imshow(image_MedianBlur)\n",
        "figure(2)\n",
        "io.imshow(image_GaussianBlur)\n",
        "figure(3)\n",
        "io.imshow(image_BilateralBlur)\n"
      ],
      "execution_count": 0,
      "outputs": []
    }
  ]
}