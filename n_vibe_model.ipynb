{
  "nbformat": 4,
  "nbformat_minor": 0,
  "metadata": {
    "colab": {
      "name": "n_vibe_model.ipynb",
      "provenance": [],
      "collapsed_sections": [],
      "authorship_tag": "ABX9TyOEsxOK2GPYbDBj6w4FmTEZ",
      "include_colab_link": true
    },
    "kernelspec": {
      "name": "python3",
      "display_name": "Python 3"
    }
  },
  "cells": [
    {
      "cell_type": "markdown",
      "metadata": {
        "id": "view-in-github",
        "colab_type": "text"
      },
      "source": [
        "<a href=\"https://colab.research.google.com/github/soumabkargit/intro-to-machine-learning/blob/master/n_vibe_model.ipynb\" target=\"_parent\"><img src=\"https://colab.research.google.com/assets/colab-badge.svg\" alt=\"Open In Colab\"/></a>"
      ]
    },
    {
      "cell_type": "code",
      "metadata": {
        "id": "FVs-rEaPy-px"
      },
      "source": [
        "import pandas as pd\n",
        "import seaborn as sns\n",
        "import matplotlib.pyplot as plt\n",
        "from sklearn.model_selection import train_test_split\n",
        "from sklearn.preprocessing import MinMaxScaler\n",
        "import tensorflow as tf\n",
        "from tensorflow.keras.models import Sequential, load_model\n",
        "from tensorflow.keras.layers import Dense, Activation, Dropout\n",
        "from sklearn.metrics import mean_absolute_error,mean_squared_error\n",
        "from tensorflow.keras.callbacks import EarlyStopping"
      ],
      "execution_count": 13,
      "outputs": []
    },
    {
      "cell_type": "code",
      "metadata": {
        "id": "3P2sYaSb3faQ",
        "outputId": "694f7201-3c2c-4867-d531-161f993c7f59",
        "colab": {
          "base_uri": "https://localhost:8080/",
          "height": 306
        }
      },
      "source": [
        "#Load the Data\n",
        "df = pd.read_csv('data.csv')\n",
        "df.head()"
      ],
      "execution_count": 14,
      "outputs": [
        {
          "output_type": "execute_result",
          "data": {
            "text/html": [
              "<div>\n",
              "<style scoped>\n",
              "    .dataframe tbody tr th:only-of-type {\n",
              "        vertical-align: middle;\n",
              "    }\n",
              "\n",
              "    .dataframe tbody tr th {\n",
              "        vertical-align: top;\n",
              "    }\n",
              "\n",
              "    .dataframe thead th {\n",
              "        text-align: right;\n",
              "    }\n",
              "</style>\n",
              "<table border=\"1\" class=\"dataframe\">\n",
              "  <thead>\n",
              "    <tr style=\"text-align: right;\">\n",
              "      <th></th>\n",
              "      <th>Unnamed: 0</th>\n",
              "      <th>device</th>\n",
              "      <th>rssi</th>\n",
              "      <th>Personne</th>\n",
              "      <th>Iteration</th>\n",
              "      <th>Label_pm</th>\n",
              "      <th>lat</th>\n",
              "      <th>lon</th>\n",
              "    </tr>\n",
              "  </thead>\n",
              "  <tbody>\n",
              "    <tr>\n",
              "      <th>0</th>\n",
              "      <td>0</td>\n",
              "      <td>C8:DF:84:32:FA:C6</td>\n",
              "      <td>[-74, -74, -74, -74, -74, -74, -74, -74, -74, ...</td>\n",
              "      <td>personne1</td>\n",
              "      <td>iteration1</td>\n",
              "      <td>I5</td>\n",
              "      <td>50.844861</td>\n",
              "      <td>4.373333</td>\n",
              "    </tr>\n",
              "    <tr>\n",
              "      <th>1</th>\n",
              "      <td>1</td>\n",
              "      <td>C8:DF:84:34:5E:68</td>\n",
              "      <td>[-86, -86, -86, -86, -86, -86, -86, -87, -87, ...</td>\n",
              "      <td>personne1</td>\n",
              "      <td>iteration1</td>\n",
              "      <td>I5</td>\n",
              "      <td>50.844861</td>\n",
              "      <td>4.373333</td>\n",
              "    </tr>\n",
              "    <tr>\n",
              "      <th>2</th>\n",
              "      <td>2</td>\n",
              "      <td>C8:DF:84:28:57:C0</td>\n",
              "      <td>[-92, -92, -92, -92, -92, -92, -92, -92, -92, ...</td>\n",
              "      <td>personne1</td>\n",
              "      <td>iteration1</td>\n",
              "      <td>I5</td>\n",
              "      <td>50.844861</td>\n",
              "      <td>4.373333</td>\n",
              "    </tr>\n",
              "    <tr>\n",
              "      <th>3</th>\n",
              "      <td>3</td>\n",
              "      <td>C8:DF:84:34:1B:03</td>\n",
              "      <td>[-79, -79, -79, -79, -79, -79, -79, -79, -79, ...</td>\n",
              "      <td>personne1</td>\n",
              "      <td>iteration1</td>\n",
              "      <td>I5</td>\n",
              "      <td>50.844861</td>\n",
              "      <td>4.373333</td>\n",
              "    </tr>\n",
              "    <tr>\n",
              "      <th>4</th>\n",
              "      <td>4</td>\n",
              "      <td>C8:DF:84:34:1D:2A</td>\n",
              "      <td>[-81, -81, -81, -81, -81, -81, -81, -81, -81, ...</td>\n",
              "      <td>personne1</td>\n",
              "      <td>iteration1</td>\n",
              "      <td>I5</td>\n",
              "      <td>50.844861</td>\n",
              "      <td>4.373333</td>\n",
              "    </tr>\n",
              "  </tbody>\n",
              "</table>\n",
              "</div>"
            ],
            "text/plain": [
              "   Unnamed: 0             device  ...        lat       lon\n",
              "0           0  C8:DF:84:32:FA:C6  ...  50.844861  4.373333\n",
              "1           1  C8:DF:84:34:5E:68  ...  50.844861  4.373333\n",
              "2           2  C8:DF:84:28:57:C0  ...  50.844861  4.373333\n",
              "3           3  C8:DF:84:34:1B:03  ...  50.844861  4.373333\n",
              "4           4  C8:DF:84:34:1D:2A  ...  50.844861  4.373333\n",
              "\n",
              "[5 rows x 8 columns]"
            ]
          },
          "metadata": {
            "tags": []
          },
          "execution_count": 14
        }
      ]
    },
    {
      "cell_type": "code",
      "metadata": {
        "id": "l9GxeJpW3p2X"
      },
      "source": [
        "#Data PreProcessing\n",
        "len(df)\n",
        "df.isnull().sum()\n",
        "df = df.dropna()\n",
        "df['lat'] = df['lat'].astype(float)\n",
        "df['lon'] = df['lon'].astype(float) #.to_list()"
      ],
      "execution_count": 15,
      "outputs": []
    },
    {
      "cell_type": "code",
      "metadata": {
        "id": "RYdyip5x5aVJ"
      },
      "source": [
        "temp_all_rssi_row = \"\"\n",
        "array_rssi_row = []\n",
        "temp_rssi = []\n",
        "temp_device = []\n",
        "temp_personne = []\n",
        "temp_iteration = []\n",
        "temp_label_pm = []\n",
        "temp_lat = []\n",
        "temp_lon = []\n",
        "\n",
        "for index_df, row_lppi in df.iterrows():\n",
        "  temp_array_rssi = []\n",
        "  temp_all_rssi_row = row_lppi['rssi'].lstrip('[')\n",
        "  temp_all_rssi_row = temp_all_rssi_row.rstrip(']')\n",
        "  array_rssi_row = temp_all_rssi_row.split(',')\n",
        "\n",
        "  for rssi in array_rssi_row:\n",
        "    temp_rssi.append(float(rssi))\n",
        "    temp_device.append(row_lppi['device'])\n",
        "    temp_personne.append(row_lppi['Personne'])\n",
        "    temp_iteration.append(row_lppi['Iteration'])\n",
        "    temp_label_pm.append(row_lppi['Label_pm'])\n",
        "    temp_lat.append(row_lppi['lat'])\n",
        "    temp_lon.append(row_lppi['lon'])"
      ],
      "execution_count": 16,
      "outputs": []
    },
    {
      "cell_type": "code",
      "metadata": {
        "id": "8A63CTx-6kNv"
      },
      "source": [
        "all_data = {'device' : temp_device, 'rssi' : temp_rssi, 'personne' : temp_personne, 'iteration' : temp_iteration, 'label' : temp_label_pm, 'lat' : temp_lat, 'lon' : temp_lon}\n",
        "df  = pd.DataFrame(data= all_data)"
      ],
      "execution_count": 17,
      "outputs": []
    },
    {
      "cell_type": "code",
      "metadata": {
        "id": "A4Hk7Ar0HNb5"
      },
      "source": [
        "df.to_csv('data_general.csv')\n",
        "df.to_excel(\"data_general.xlsx\") "
      ],
      "execution_count": 6,
      "outputs": []
    },
    {
      "cell_type": "code",
      "metadata": {
        "id": "NheNLh6034o3"
      },
      "source": [
        "# Convert Pandas to Numpy for Keras\n",
        "\n",
        "# Features\n",
        "X = df['rssi'].values\n",
        "\n",
        "# Label\n",
        "y = df[['lat','lon']].values"
      ],
      "execution_count": 18,
      "outputs": []
    },
    {
      "cell_type": "code",
      "metadata": {
        "id": "-Z6AudC64GhZ",
        "outputId": "7626a62c-e3c1-4058-f1cc-fd780823c845",
        "colab": {
          "base_uri": "https://localhost:8080/",
          "height": 35
        }
      },
      "source": [
        "# Split\n",
        "X_train, X_test, y_train, y_test = train_test_split(X,y,test_size=0.3,random_state=42)\n",
        "\n",
        "X_train.shape\n",
        "X_test.shape\n",
        "y_train.shape\n",
        "y_test.shape\n",
        "\n",
        "print(\"X_train : \",X_train.shape, \" X_test : \",X_test.shape, \" y_train : \",y_train.shape, \" y_test : \",y_test.shape)"
      ],
      "execution_count": 19,
      "outputs": [
        {
          "output_type": "stream",
          "text": [
            "X_train :  (564505,)  X_test :  (241931,)  y_train :  (564505, 2)  y_test :  (241931, 2)\n"
          ],
          "name": "stdout"
        }
      ]
    },
    {
      "cell_type": "code",
      "metadata": {
        "id": "WF9JLmzA4gUT"
      },
      "source": [
        "#Creating a Model\n",
        "model = Sequential()\n",
        "\n",
        "model.add(Dense(4,activation='relu'))\n",
        "model.add(Dense(4,activation='relu'))\n",
        "#model.add(Dropout(0.5))\n",
        "model.add(Dense(4,activation='relu'))\n",
        "\n",
        "# Final output node for prediction\n",
        "model.add(Dense(1))\n",
        "\n",
        "model.compile(optimizer='rmsprop',loss='mse')"
      ],
      "execution_count": 20,
      "outputs": []
    },
    {
      "cell_type": "code",
      "metadata": {
        "id": "1nX6auT44lB1",
        "outputId": "951c76ec-499c-4a3f-9928-38d75ca4be6d",
        "colab": {
          "base_uri": "https://localhost:8080/",
          "height": 381
        }
      },
      "source": [
        "#Training\n",
        "#early_stop = EarlyStopping(monitor='val_loss', mode='min', verbose=1, patience=25)\n",
        "model.fit(x=X_train, \n",
        "          y=y_train, \n",
        "          epochs=10,\n",
        "          validation_data=(X_test, y_test), verbose=1,\n",
        "          callbacks=[early_stop]\n",
        "          )"
      ],
      "execution_count": 22,
      "outputs": [
        {
          "output_type": "stream",
          "text": [
            "Epoch 1/10\n",
            "17641/17641 [==============================] - 21s 1ms/step - loss: 540.7960 - val_loss: 540.1704\n",
            "Epoch 2/10\n",
            "17641/17641 [==============================] - 21s 1ms/step - loss: 540.5188 - val_loss: 541.3796\n",
            "Epoch 3/10\n",
            "17641/17641 [==============================] - 21s 1ms/step - loss: 540.3223 - val_loss: 539.9537\n",
            "Epoch 4/10\n",
            "17641/17641 [==============================] - 21s 1ms/step - loss: 540.1819 - val_loss: 540.1987\n",
            "Epoch 5/10\n",
            "17641/17641 [==============================] - 21s 1ms/step - loss: 540.0816 - val_loss: 539.9996\n",
            "Epoch 6/10\n",
            "17641/17641 [==============================] - 21s 1ms/step - loss: 540.0227 - val_loss: 540.0273\n",
            "Epoch 7/10\n",
            "17641/17641 [==============================] - 25s 1ms/step - loss: 539.9990 - val_loss: 539.9962\n",
            "Epoch 8/10\n",
            "17641/17641 [==============================] - 21s 1ms/step - loss: 539.9887 - val_loss: 539.9684\n",
            "Epoch 9/10\n",
            "17641/17641 [==============================] - 22s 1ms/step - loss: 539.9822 - val_loss: 539.9396\n",
            "Epoch 10/10\n",
            "17641/17641 [==============================] - 22s 1ms/step - loss: 539.9774 - val_loss: 539.9390\n"
          ],
          "name": "stdout"
        },
        {
          "output_type": "execute_result",
          "data": {
            "text/plain": [
              "<tensorflow.python.keras.callbacks.History at 0x7f6038ecc668>"
            ]
          },
          "metadata": {
            "tags": []
          },
          "execution_count": 22
        }
      ]
    },
    {
      "cell_type": "code",
      "metadata": {
        "id": "oZMEwshc5YlD",
        "outputId": "a05ec9c0-88ae-47a9-910a-64c1ea63d04e",
        "colab": {
          "base_uri": "https://localhost:8080/",
          "height": 281
        }
      },
      "source": [
        "#Evaluation\n",
        "model.history.history\n",
        "loss = model.history.history['loss']\n",
        "sns.lineplot(x=range(len(loss)),y=loss)\n",
        "plt.title(\"Training Loss per Epoch\");"
      ],
      "execution_count": 23,
      "outputs": [
        {
          "output_type": "display_data",
          "data": {
            "image/png": "[encoded data removed]",
            "text/plain": [
              "<Figure size 432x288 with 1 Axes>"
            ]
          },
          "metadata": {
            "tags": [],
            "needs_background": "light"
          }
        }
      ]
    },
    {
      "cell_type": "code",
      "metadata": {
        "id": "kpBw1nRl5lA6"
      },
      "source": [
        "#Compare final evaluation (MSE) on training set and test set.\n",
        "model.metrics_names\n",
        "training_score = model.evaluate(X_train,y_train,verbose=0)\n",
        "test_score = model.evaluate(X_test,y_test,verbose=0)\n",
        "training_score\n",
        "test_score\n",
        "test_predictions = model.predict(X_test)\n",
        "test_predictions\n",
        "pred_df = pd.DataFrame(y_test,columns=['Test Y'])\n",
        "pred_df\n",
        "test_predictions = pd.Series(test_predictions.reshape(300,))\n",
        "test_predictions\n",
        "pred_df = pd.concat([pred_df,test_predictions],axis=1)\n",
        "pred_df.columns = ['Test Y','Model Predictions']\n",
        "pred_df\n",
        "sns.scatterplot(x='Test Y',y='Model Predictions',data=pred_df)\n",
        "pred_df['Error'] = pred_df['Test Y'] - pred_df['Model Predictions']\n",
        "sns.distplot(pred_df['Error'],bins=50)\n",
        "mean_absolute_error(pred_df['Test Y'],pred_df['Model Predictions'])\n",
        "mean_squared_error(pred_df['Test Y'],pred_df['Model Predictions'])"
      ],
      "execution_count": null,
      "outputs": []
    },
    {
      "cell_type": "code",
      "metadata": {
        "id": "9PIb2BhU52Dn"
      },
      "source": [
        "# Essentially the same thing, difference just due to precision\n",
        "test_score\n",
        "\n",
        "#RMSE\n",
        "test_score**0.5\n",
        "\n",
        "#Predicting on brand new data\n",
        "# [[Feature1, Feature2]]\n",
        "new_gem = [[998,1000]]\n",
        "# Don't forget to scale!\n",
        "scaler.transform(new_gem)\n",
        "new_gem = scaler.transform(new_gem)\n",
        "model.predict(new_gem)\n",
        "model.save('my_model.h5')  # creates a HDF5 file 'my_model.h5'\n",
        "later_model = load_model('my_model.h5')\n",
        "later_model.predict(new_gem)"
      ],
      "execution_count": null,
      "outputs": []
    }
  ]
}