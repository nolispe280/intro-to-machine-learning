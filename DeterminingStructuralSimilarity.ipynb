{
  "nbformat": 4,
  "nbformat_minor": 0,
  "metadata": {
    "colab": {
      "name": "Untitled5.ipynb",
      "provenance": [],
      "include_colab_link": true
    },
    "kernelspec": {
      "name": "python3",
      "display_name": "Python 3"
    }
  },
  "cells": [
    {
      "cell_type": "markdown",
      "metadata": {
        "id": "view-in-github",
        "colab_type": "text"
      },
      "source": [
        "<a href=\"https://colab.research.google.com/github/soumabkargit/intro-to-machine-learning/blob/master/DeterminingStructuralSimilarity.ipynb\" target=\"_parent\"><img src=\"https://colab.research.google.com/assets/colab-badge.svg\" alt=\"Open In Colab\"/></a>"
      ]
    },
    {
      "cell_type": "code",
      "metadata": {
        "id": "2A8okd1AYfSh",
        "colab_type": "code",
        "colab": {
          "base_uri": "https://localhost:8080/",
          "height": 35
        },
        "outputId": "62a422a2-b346-4208-a349-931f6be42034"
      },
      "source": [
        "#Import libraries\n",
        "from skimage import io\n",
        "from skimage import color\n",
        "from skimage import data\n",
        "from pylab import *\n",
        "from pydrive.auth import GoogleAuth\n",
        "from pydrive.drive import GoogleDrive\n",
        "from google.colab import auth\n",
        "from oauth2client.client import GoogleCredentials\n",
        "import pandas as pd\n",
        "from skimage.measure import compare_ssim as ssim\n",
        "\n",
        "# Authentification Google\n",
        "auth.authenticate_user()\n",
        "gauth = GoogleAuth()\n",
        "gauth.credentials = GoogleCredentials.get_application_default()\n",
        "drive = GoogleDrive(gauth)\n",
        "\n",
        "# Download du fichier\n",
        "id = '12CE5d-fmxfw9SkHD3iC58qZsjlpB4F1S'\n",
        "downloaded = drive.CreateFile({'id': '12CE5d-fmxfw9SkHD3iC58qZsjlpB4F1S'})\n",
        "downloaded.GetContentFile('test_1.jpg')\n",
        "#Lire l'image\n",
        "img = io.imread('test_1.jpg')\n",
        "img_original = img\n",
        "#Convert to YUV\n",
        "img_yuv = color.rgb2yuv(img)\n",
        "img_modified = img_yuv\n",
        "\n",
        "ssim_original = ssim(img_original, img_original, data_range=img_original.max() - img_original.min(), multichannel=True)\n",
        "ssim_different = ssim(img_original, img_modified, data_range=img_modified.max() - img_modified.min(), multichannel=True)\n",
        "print(ssim_original,ssim_different)"
      ],
      "execution_count": 5,
      "outputs": [
        {
          "output_type": "stream",
          "text": [
            "1.0 0.0006283947309474051\n"
          ],
          "name": "stdout"
        }
      ]
    }
  ]
}