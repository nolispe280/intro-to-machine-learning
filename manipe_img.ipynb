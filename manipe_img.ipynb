{
  "nbformat": 4,
  "nbformat_minor": 0,
  "metadata": {
    "colab": {
      "name": "Copie de Untitled5.ipynb",
      "provenance": [],
      "include_colab_link": true
    },
    "kernelspec": {
      "name": "python3",
      "display_name": "Python 3"
    }
  },
  "cells": [
    {
      "cell_type": "markdown",
      "metadata": {
        "id": "view-in-github",
        "colab_type": "text"
      },
      "source": [
        "<a href=\"https://colab.research.google.com/github/soumabkargit/intro-to-machine-learning/blob/master/manipe_img.ipynb\" target=\"_parent\"><img src=\"https://colab.research.google.com/assets/colab-badge.svg\" alt=\"Open In Colab\"/></a>"
      ]
    },
    {
      "cell_type": "code",
      "metadata": {
        "id": "2A8okd1AYfSh",
        "colab_type": "code",
        "colab": {}
      },
      "source": [
        "#!pip install -U -q PyDrive\n",
        "\n",
        "from pydrive.auth import GoogleAuth\n",
        "from pydrive.drive import GoogleDrive\n",
        "from google.colab import auth\n",
        "from oauth2client.client import GoogleCredentials\n",
        "from skimage import io\n",
        "import pandas as pd\n",
        "\n",
        "# Authentification Google\n",
        "auth.authenticate_user()\n",
        "gauth = GoogleAuth()\n",
        "gauth.credentials = GoogleCredentials.get_application_default()\n",
        "drive = GoogleDrive(gauth)\n",
        "\n",
        "# Download du fichier\n",
        "id = '12CE5d-fmxfw9SkHD3iC58qZsjlpB4F1S'\n",
        "downloaded = drive.CreateFile({'id': '12CE5d-fmxfw9SkHD3iC58qZsjlpB4F1S'})\n",
        "downloaded.GetContentFile('test_1.jpg')\n",
        "#Lire l'image\n",
        "img = io.imread('test_1.jpg')\n",
        "#Resolution de l'image\n",
        "print(img.shape)\n",
        "#Charger les info de l'image dans un fichier csv\n",
        "df = pd.DataFrame(img.flatten())\n",
        "filepath = \"pixel_values1.csv\"\n",
        "resultat = df.to_csv(filepath, index=False)\n",
        "#Créer et télécharger le fichier d'ici vers le google drive\n",
        "uploaded = drive.CreateFile({'resultat_traitement_img': 'resultat_traitement_img.csv'})\n",
        "#str(resultat_traitement_img.encode(\"UTF-8\") if resultat_traitement_img else resultat_traitement_img)\n",
        "uploaded.SetContentString(filepath)\n",
        "uploaded.Upload()\n",
        "print('Uploaded file with ID {}'.format(uploaded.get('id')))\n",
        "#afficher l'image\n",
        "io.imshow(img)"
      ],
      "execution_count": 0,
      "outputs": []
    }
  ]
}