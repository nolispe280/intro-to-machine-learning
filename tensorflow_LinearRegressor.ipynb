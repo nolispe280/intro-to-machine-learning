{
  "nbformat": 4,
  "nbformat_minor": 0,
  "metadata": {
    "colab": {
      "name": "Untitled20.ipynb",
      "provenance": [],
      "authorship_tag": "ABX9TyMFwSV7PqWaieOllUrvshtK",
      "include_colab_link": true
    },
    "kernelspec": {
      "name": "python3",
      "display_name": "Python 3"
    }
  },
  "cells": [
    {
      "cell_type": "markdown",
      "metadata": {
        "id": "view-in-github",
        "colab_type": "text"
      },
      "source": [
        "<a href=\"https://colab.research.google.com/github/soumabkargit/intro-to-machine-learning/blob/master/tensorflow_LinearRegressor.ipynb\" target=\"_parent\"><img src=\"https://colab.research.google.com/assets/colab-badge.svg\" alt=\"Open In Colab\"/></a>"
      ]
    },
    {
      "cell_type": "code",
      "metadata": {
        "id": "7NnjHwVSpdvc",
        "colab_type": "code",
        "colab": {
          "base_uri": "https://localhost:8080/",
          "height": 1000
        },
        "outputId": "1effbb41-095d-446c-a682-f6fccbd974a4"
      },
      "source": [
        "import numpy as np\n",
        "import shutil\n",
        "import tensorflow as tf\n",
        "\n",
        "shutil.rmtree(\"outdir\", ignore_errors = True) # start fresh each time\n",
        "\n",
        "def train_input_fn():\n",
        "  features = {\"sq_footage\": [1000, 2000, 3000, 1000, 2000, 3000],\n",
        "              \"type\": [\"house\", \"house\", \"house\", \"apt\", \"apt\", \"apt\"]}\n",
        "  labels = [500, 1000, 1500, 700, 1300, 1900]\n",
        "  return features, labels\n",
        "\n",
        "featcols = [\n",
        "            tf.feature_column.numeric_column(\"sq_footage\"),\n",
        "            tf.feature_column.categorical_column_with_vocabulary_list(\"type\", [\"house\", \"apt\"])\n",
        "]\n",
        "\n",
        "model = tf.estimator.LinearRegressor(featcols, \"outdir\")\n",
        "model.train(train_input_fn, steps=2000)\n",
        "\n",
        "\n",
        " "
      ],
      "execution_count": 4,
      "outputs": [
        {
          "output_type": "stream",
          "text": [
            "INFO:tensorflow:Using default config.\n",
            "INFO:tensorflow:Using config: {'_model_dir': 'outdir', '_tf_random_seed': None, '_save_summary_steps': 100, '_save_checkpoints_steps': None, '_save_checkpoints_secs': 600, '_session_config': allow_soft_placement: true\n",
            "graph_options {\n",
            "  rewrite_options {\n",
            "    meta_optimizer_iterations: ONE\n",
            "  }\n",
            "}\n",
            ", '_keep_checkpoint_max': 5, '_keep_checkpoint_every_n_hours': 10000, '_log_step_count_steps': 100, '_train_distribute': None, '_device_fn': None, '_protocol': None, '_eval_distribute': None, '_experimental_distribute': None, '_experimental_max_worker_delay_secs': None, '_session_creation_timeout_secs': 7200, '_service': None, '_cluster_spec': <tensorflow.python.training.server_lib.ClusterSpec object at 0x7fc2572cdf28>, '_task_type': 'worker', '_task_id': 0, '_global_id_in_cluster': 0, '_master': '', '_evaluation_master': '', '_is_chief': True, '_num_ps_replicas': 0, '_num_worker_replicas': 1}\n",
            "WARNING:tensorflow:From /usr/local/lib/python3.6/dist-packages/tensorflow_core/python/training/training_util.py:236: Variable.initialized_value (from tensorflow.python.ops.variables) is deprecated and will be removed in a future version.\n",
            "Instructions for updating:\n",
            "Use Variable.read_value. Variables in 2.X are initialized automatically both in eager and graph (inside tf.defun) contexts.\n",
            "INFO:tensorflow:Calling model_fn.\n",
            "WARNING:tensorflow:From /usr/local/lib/python3.6/dist-packages/tensorflow_core/python/feature_column/feature_column_v2.py:305: Layer.add_variable (from tensorflow.python.keras.engine.base_layer) is deprecated and will be removed in a future version.\n",
            "Instructions for updating:\n",
            "Please use `layer.add_weight` method instead.\n",
            "WARNING:tensorflow:From /usr/local/lib/python3.6/dist-packages/tensorflow_core/python/ops/resource_variable_ops.py:1630: calling BaseResourceVariable.__init__ (from tensorflow.python.ops.resource_variable_ops) with constraint is deprecated and will be removed in a future version.\n",
            "Instructions for updating:\n",
            "If using Keras pass *_constraint arguments to layers.\n",
            "WARNING:tensorflow:From /usr/local/lib/python3.6/dist-packages/tensorflow_core/python/ops/embedding_ops.py:802: where (from tensorflow.python.ops.array_ops) is deprecated and will be removed in a future version.\n",
            "Instructions for updating:\n",
            "Use tf.where in 2.0, which has the same broadcast rule as np.where\n",
            "WARNING:tensorflow:From /usr/local/lib/python3.6/dist-packages/tensorflow_estimator/python/estimator/canned/linear.py:308: to_float (from tensorflow.python.ops.math_ops) is deprecated and will be removed in a future version.\n",
            "Instructions for updating:\n",
            "Use `tf.cast` instead.\n",
            "INFO:tensorflow:Done calling model_fn.\n",
            "INFO:tensorflow:Create CheckpointSaverHook.\n",
            "INFO:tensorflow:Graph was finalized.\n",
            "INFO:tensorflow:Running local_init_op.\n",
            "INFO:tensorflow:Done running local_init_op.\n",
            "INFO:tensorflow:Saving checkpoints for 0 into outdir/model.ckpt.\n",
            "INFO:tensorflow:loss = 9290000.0, step = 1\n",
            "INFO:tensorflow:global_step/sec: 840.869\n",
            "INFO:tensorflow:loss = 144242.62, step = 101 (0.120 sec)\n",
            "INFO:tensorflow:global_step/sec: 1286.21\n",
            "INFO:tensorflow:loss = 142023.2, step = 201 (0.078 sec)\n",
            "INFO:tensorflow:global_step/sec: 1138.79\n",
            "INFO:tensorflow:loss = 140171.67, step = 301 (0.091 sec)\n",
            "INFO:tensorflow:global_step/sec: 1281.82\n",
            "INFO:tensorflow:loss = 138553.88, step = 401 (0.079 sec)\n",
            "INFO:tensorflow:global_step/sec: 1247.19\n",
            "INFO:tensorflow:loss = 137101.47, step = 501 (0.080 sec)\n",
            "INFO:tensorflow:global_step/sec: 1239.21\n",
            "INFO:tensorflow:loss = 135774.66, step = 601 (0.077 sec)\n",
            "INFO:tensorflow:global_step/sec: 1154.92\n",
            "INFO:tensorflow:loss = 134547.11, step = 701 (0.089 sec)\n",
            "INFO:tensorflow:global_step/sec: 1316.64\n",
            "INFO:tensorflow:loss = 133400.81, step = 801 (0.073 sec)\n",
            "INFO:tensorflow:global_step/sec: 1084.26\n",
            "INFO:tensorflow:loss = 132322.64, step = 901 (0.096 sec)\n",
            "INFO:tensorflow:global_step/sec: 1282.14\n",
            "INFO:tensorflow:loss = 131302.42, step = 1001 (0.074 sec)\n",
            "INFO:tensorflow:global_step/sec: 1320.58\n",
            "INFO:tensorflow:loss = 130332.56, step = 1101 (0.076 sec)\n",
            "INFO:tensorflow:global_step/sec: 1086.4\n",
            "INFO:tensorflow:loss = 129406.89, step = 1201 (0.093 sec)\n",
            "INFO:tensorflow:global_step/sec: 1111.84\n",
            "INFO:tensorflow:loss = 128520.266, step = 1301 (0.094 sec)\n",
            "INFO:tensorflow:global_step/sec: 1172.15\n",
            "INFO:tensorflow:loss = 127668.74, step = 1401 (0.081 sec)\n",
            "INFO:tensorflow:global_step/sec: 1186.85\n",
            "INFO:tensorflow:loss = 126848.92, step = 1501 (0.084 sec)\n",
            "INFO:tensorflow:global_step/sec: 1290.32\n",
            "INFO:tensorflow:loss = 126057.62, step = 1601 (0.078 sec)\n",
            "INFO:tensorflow:global_step/sec: 1219.45\n",
            "INFO:tensorflow:loss = 125292.484, step = 1701 (0.086 sec)\n",
            "INFO:tensorflow:global_step/sec: 1254.83\n",
            "INFO:tensorflow:loss = 124551.48, step = 1801 (0.076 sec)\n",
            "INFO:tensorflow:global_step/sec: 1295.39\n",
            "INFO:tensorflow:loss = 123832.59, step = 1901 (0.081 sec)\n",
            "INFO:tensorflow:Saving checkpoints for 2000 into outdir/model.ckpt.\n",
            "INFO:tensorflow:Loss for final step: 123141.125.\n"
          ],
          "name": "stdout"
        },
        {
          "output_type": "execute_result",
          "data": {
            "text/plain": [
              "<tensorflow_estimator.python.estimator.canned.linear.LinearRegressor at 0x7fc2571e8668>"
            ]
          },
          "metadata": {
            "tags": []
          },
          "execution_count": 4
        }
      ]
    }
  ]
}