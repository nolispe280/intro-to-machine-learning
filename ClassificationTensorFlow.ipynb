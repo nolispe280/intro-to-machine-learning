{
  "nbformat": 4,
  "nbformat_minor": 0,
  "metadata": {
    "colab": {
      "name": "Untitled1.ipynb",
      "provenance": [],
      "include_colab_link": true
    },
    "kernelspec": {
      "name": "python3",
      "display_name": "Python 3"
    }
  },
  "cells": [
    {
      "cell_type": "markdown",
      "metadata": {
        "id": "view-in-github",
        "colab_type": "text"
      },
      "source": [
        "<a href=\"https://colab.research.google.com/github/soumabkargit/intro-to-machine-learning/blob/master/ClassificationTensorFlow.ipynb\" target=\"_parent\"><img src=\"https://colab.research.google.com/assets/colab-badge.svg\" alt=\"Open In Colab\"/></a>"
      ]
    },
    {
      "cell_type": "code",
      "metadata": {
        "id": "CXG5bHB_Q6aY",
        "colab_type": "code",
        "colab": {
          "base_uri": "https://localhost:8080/",
          "height": 191
        },
        "outputId": "b2430620-5ab1-4f15-d9fa-dd3d23d2dcb3"
      },
      "source": [
        "# import packages\n",
        "import numpy as np\n",
        "import tensorflow as tf\n",
        "from sklearn import datasets\n",
        "from tensorflow.keras import Model\n",
        "from sklearn.model_selection import train_test_split\n",
        "from sklearn.preprocessing import OneHotEncoder\n",
        "\n",
        "# load dataset\n",
        "data = datasets.load_iris()\n",
        "\n",
        "# separate features and target\n",
        "X = data.data\n",
        "y = data.target\n",
        "\n",
        "# apply one-hot encoding to targets\n",
        "one_hot_encoder = OneHotEncoder(categories='auto')\n",
        "encode_categorical = y.reshape(len(y), 1)\n",
        "y = one_hot_encoder.fit_transform(encode_categorical).toarray()\n",
        "\n",
        "# split in train and test sets\n",
        "X_train, X_test, y_train, y_test = train_test_split(X, y, shuffle=True)\n",
        "\n",
        "# build the linear model\n",
        "class LogisticRegressionModel(Model):\n",
        "  def __init__(self):\n",
        "    super(LogisticRegressionModel, self).__init__()\n",
        "    # initialize weight and bias variables\n",
        "    self.weight = tf.Variable(\n",
        "        initial_value = tf.random.normal(\n",
        "            [4, 3], dtype=tf.float64),\n",
        "        trainable=True)\n",
        "    self.bias = tf.Variable(initial_value = tf.random.normal(\n",
        "        [3], dtype=tf.float64), trainable=True)\n",
        "\n",
        "  def call(self, inputs):\n",
        "    return tf.add(tf.matmul(inputs, self.weight), self.bias)\n",
        "\n",
        "model = LogisticRegressionModel()\n",
        "\n",
        "# parameters\n",
        "batch_size = 32\n",
        "learning_rate = 0.1\n",
        "\n",
        "# use tf.data to batch and shuffle the dataset\n",
        "train_ds = tf.data.Dataset.from_tensor_slices(\n",
        "    (X_train, y_train)).shuffle(len(X_train)).batch(batch_size)\n",
        "test_ds = tf.data.Dataset.from_tensor_slices((X_test, y_test)).batch(batch_size)\n",
        "\n",
        "optimizer = tf.keras.optimizers.SGD(learning_rate=learning_rate)\n",
        "\n",
        "train_loss = tf.keras.metrics.Mean(name='train_loss')\n",
        "train_accuracy = tf.keras.metrics.Accuracy(name='train_accuracy')\n",
        "\n",
        "test_loss = tf.keras.metrics.Mean(name='test_loss')\n",
        "test_accuracy = tf.keras.metrics.Accuracy(name='test_accuracy')\n",
        "\n",
        "# use tf.GradientTape to train the model\n",
        "@tf.function\n",
        "def train_step(inputs, labels):\n",
        "  with tf.GradientTape() as tape:\n",
        "    predictions = model(inputs)\n",
        "    loss = tf.reduce_mean(tf.nn.softmax_cross_entropy_with_logits(labels, predictions))\n",
        "  gradients = tape.gradient(loss, model.trainable_variables)\n",
        "  optimizer.apply_gradients(zip(gradients, model.trainable_variables))\n",
        "\n",
        "  train_loss(loss)\n",
        "  train_accuracy(tf.argmax(labels,1), tf.argmax(predictions,1))\n",
        "\n",
        "@tf.function\n",
        "def test_step(inputs, labels):\n",
        "  predictions = model(inputs)\n",
        "  t_loss = tf.reduce_mean(tf.nn.softmax_cross_entropy_with_logits(labels, predictions))\n",
        "\n",
        "  test_loss(t_loss)\n",
        "  test_accuracy(tf.argmax(labels,1), tf.argmax(predictions,1))\n",
        "\n",
        "num_epochs = 1000\n",
        "\n",
        "for epoch in range(num_epochs):\n",
        "  for train_inputs, train_labels in train_ds:\n",
        "    train_step(train_inputs, train_labels)\n",
        "\n",
        "  for test_inputs, test_labels in test_ds:\n",
        "    test_step(test_inputs, test_labels)\n",
        "\n",
        "  template = 'Epoch {}, Loss: {}, Accuracy: {}, Test Loss: {}, Test Accuracy: {}'\n",
        "\n",
        "  if ((epoch+1) % 100 == 0):\n",
        "    print (template.format(epoch+1,\n",
        "                           train_loss.result(),\n",
        "                           train_accuracy.result()*100,\n",
        "                           test_loss.result(),\n",
        "                           test_accuracy.result()*100))"
      ],
      "execution_count": 7,
      "outputs": [
        {
          "output_type": "stream",
          "text": [
            "Epoch 100, Loss: 0.4285290539264679, Accuracy: 82.33036041259766, Test Loss: 0.3979380130767822, Test Accuracy: 85.18421173095703\n",
            "Epoch 200, Loss: 0.306321382522583, Accuracy: 88.87053680419922, Test Loss: 0.2681294083595276, Test Accuracy: 92.59210205078125\n",
            "Epoch 300, Loss: 0.25382715463638306, Accuracy: 91.0922622680664, Test Loss: 0.2117917686700821, Test Accuracy: 94.33333587646484\n",
            "Epoch 400, Loss: 0.22331503033638, Accuracy: 92.203125, Test Loss: 0.1791626214981079, Test Accuracy: 95.09210205078125\n",
            "Epoch 500, Loss: 0.20293880999088287, Accuracy: 92.86964416503906, Test Loss: 0.15754000842571259, Test Accuracy: 95.99473571777344\n",
            "Epoch 600, Loss: 0.1881810575723648, Accuracy: 93.41815948486328, Test Loss: 0.14201098680496216, Test Accuracy: 96.66228485107422\n",
            "Epoch 700, Loss: 0.17690429091453552, Accuracy: 93.84821319580078, Test Loss: 0.13024184107780457, Test Accuracy: 97.13909912109375\n",
            "Epoch 800, Loss: 0.16795212030410767, Accuracy: 94.17076110839844, Test Loss: 0.1209714487195015, Test Accuracy: 97.49671173095703\n",
            "Epoch 900, Loss: 0.1606387495994568, Accuracy: 94.36904907226562, Test Loss: 0.11345408856868744, Test Accuracy: 97.77484893798828\n",
            "Epoch 1000, Loss: 0.15452896058559418, Accuracy: 94.48571014404297, Test Loss: 0.10721845179796219, Test Accuracy: 97.99736785888672\n"
          ],
          "name": "stdout"
        }
      ]
    }
  ]
}