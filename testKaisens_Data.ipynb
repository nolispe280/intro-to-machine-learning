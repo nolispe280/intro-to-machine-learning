{
  "nbformat": 4,
  "nbformat_minor": 0,
  "metadata": {
    "colab": {
      "name": "testKaisens_Data.ipynb",
      "provenance": [],
      "authorship_tag": "ABX9TyMkSzu9dmAYcqzvFnY2W7bb",
      "include_colab_link": true
    },
    "kernelspec": {
      "name": "python3",
      "display_name": "Python 3"
    }
  },
  "cells": [
    {
      "cell_type": "markdown",
      "metadata": {
        "id": "view-in-github",
        "colab_type": "text"
      },
      "source": [
        "<a href=\"https://colab.research.google.com/github/soumabkargit/intro-to-machine-learning/blob/master/testKaisens_Data.ipynb\" target=\"_parent\"><img src=\"https://colab.research.google.com/assets/colab-badge.svg\" alt=\"Open In Colab\"/></a>"
      ]
    },
    {
      "cell_type": "markdown",
      "metadata": {
        "id": "1rf5ZtZHtmqu",
        "colab_type": "text"
      },
      "source": [
        "**Loading and importing packages**"
      ]
    },
    {
      "cell_type": "code",
      "metadata": {
        "id": "yJzYKi58Awcf",
        "colab_type": "code",
        "colab": {
          "base_uri": "https://localhost:8080/",
          "height": 349
        },
        "outputId": "59f7be34-2efe-4dc4-e31d-5dd61d3e330b"
      },
      "source": [
        "!pip install datefinder\n",
        "!pip install -U -q PyDrive\n",
        "!pip install nltk\n",
        "!pip install dateparser\n",
        "\n",
        "import re\n",
        "import datefinder\n",
        "import nltk\n",
        "import sys\n",
        "from dateparser.search import search_dates \n",
        "from nltk.corpus import stopwords\n",
        "from nltk.tokenize import word_tokenize\n",
        "nltk.download('stopwords')\n",
        "nltk.download('punkt')"
      ],
      "execution_count": 12,
      "outputs": [
        {
          "output_type": "stream",
          "text": [
            "Requirement already satisfied: datefinder in /usr/local/lib/python3.6/dist-packages (0.7.1)\n",
            "Requirement already satisfied: regex>=2017.02.08 in /usr/local/lib/python3.6/dist-packages (from datefinder) (2019.12.20)\n",
            "Requirement already satisfied: python-dateutil>=2.4.2 in /usr/local/lib/python3.6/dist-packages (from datefinder) (2.8.1)\n",
            "Requirement already satisfied: pytz in /usr/local/lib/python3.6/dist-packages (from datefinder) (2018.9)\n",
            "Requirement already satisfied: six>=1.5 in /usr/local/lib/python3.6/dist-packages (from python-dateutil>=2.4.2->datefinder) (1.12.0)\n",
            "Requirement already satisfied: nltk in /usr/local/lib/python3.6/dist-packages (3.2.5)\n",
            "Requirement already satisfied: six in /usr/local/lib/python3.6/dist-packages (from nltk) (1.12.0)\n",
            "Requirement already satisfied: dateparser in /usr/local/lib/python3.6/dist-packages (0.7.6)\n",
            "Requirement already satisfied: pytz in /usr/local/lib/python3.6/dist-packages (from dateparser) (2018.9)\n",
            "Requirement already satisfied: python-dateutil in /usr/local/lib/python3.6/dist-packages (from dateparser) (2.8.1)\n",
            "Requirement already satisfied: tzlocal in /usr/local/lib/python3.6/dist-packages (from dateparser) (1.5.1)\n",
            "Requirement already satisfied: regex!=2019.02.19 in /usr/local/lib/python3.6/dist-packages (from dateparser) (2019.12.20)\n",
            "Requirement already satisfied: six>=1.5 in /usr/local/lib/python3.6/dist-packages (from python-dateutil->dateparser) (1.12.0)\n",
            "[nltk_data] Downloading package stopwords to /root/nltk_data...\n",
            "[nltk_data]   Package stopwords is already up-to-date!\n",
            "[nltk_data] Downloading package punkt to /root/nltk_data...\n",
            "[nltk_data]   Package punkt is already up-to-date!\n"
          ],
          "name": "stdout"
        },
        {
          "output_type": "execute_result",
          "data": {
            "text/plain": [
              "True"
            ]
          },
          "metadata": {
            "tags": []
          },
          "execution_count": 12
        }
      ]
    },
    {
      "cell_type": "markdown",
      "metadata": {
        "id": "sJMDrv6vuQLD",
        "colab_type": "text"
      },
      "source": [
        "1- Write a Python program that matches a string that has an a followed by zero\n",
        "or more b's"
      ]
    },
    {
      "cell_type": "code",
      "metadata": {
        "id": "UHRPCpa_hEcF",
        "colab_type": "code",
        "colab": {
          "base_uri": "https://localhost:8080/",
          "height": 69
        },
        "outputId": "5c49c349-b3d9-40bb-a3da-8759a5905cd7"
      },
      "source": [
        "def match1(string):\n",
        "  \"\"\"matches a string that has an a followed by zero or more b's\"\"\"\n",
        "  res = re.search('ab*?', string)\n",
        "  return res\n",
        "\n",
        "#example with the function match1\n",
        "text = 'Abdoul et Abbah vont rejoindre alfred sur la tâche 5 du projet'\n",
        "print(match1(text))\n",
        "\n",
        "text = 'Abdoul et abbah vont rejoindre alfred sur la tâche 5 du projet'\n",
        "print(match1(text))\n",
        "\n",
        "text = 'aac'\n",
        "print(match1(text))"
      ],
      "execution_count": 13,
      "outputs": [
        {
          "output_type": "stream",
          "text": [
            "<_sre.SRE_Match object; span=(13, 14), match='a'>\n",
            "<_sre.SRE_Match object; span=(10, 11), match='a'>\n",
            "<_sre.SRE_Match object; span=(0, 1), match='a'>\n"
          ],
          "name": "stdout"
        }
      ]
    },
    {
      "cell_type": "markdown",
      "metadata": {
        "id": "ZHUDBTU0uiNw",
        "colab_type": "text"
      },
      "source": [
        "2- Write a Python program to find sequences of one upper case letter followed\n",
        "by lower case letters"
      ]
    },
    {
      "cell_type": "code",
      "metadata": {
        "id": "IXzm-4GyhJh3",
        "colab_type": "code",
        "colab": {
          "base_uri": "https://localhost:8080/",
          "height": 35
        },
        "outputId": "a150fc16-0856-4867-e71d-923748e7618e"
      },
      "source": [
        "def match2(string):\n",
        "  \"\"\"finds sequences of one upper case letter followed by lower case letters\"\"\"\n",
        "  res = re.findall('[A-Z][a-z]+', string)\n",
        "  return res\n",
        "\n",
        "#example with the function match2\n",
        "text = 'Abdoul et Karim vont rejoindre Alfred sur la tâche 5 du projet'\n",
        "print(match2(text))"
      ],
      "execution_count": 15,
      "outputs": [
        {
          "output_type": "stream",
          "text": [
            "['Abdoul', 'Karim', 'Alfred']\n"
          ],
          "name": "stdout"
        }
      ]
    },
    {
      "cell_type": "markdown",
      "metadata": {
        "id": "DH0z1qtvumv8",
        "colab_type": "text"
      },
      "source": [
        "3- Write a Python program that matches a string that has an 'a' followed by\n",
        "anything, ending in 'b'"
      ]
    },
    {
      "cell_type": "code",
      "metadata": {
        "id": "SYy-8kXLhMbx",
        "colab_type": "code",
        "colab": {
          "base_uri": "https://localhost:8080/",
          "height": 35
        },
        "outputId": "417baac6-d984-431e-f013-1343400dc320"
      },
      "source": [
        "def match3(string):\n",
        "  \"\"\"string that has an 'a' followed by anything, ending in 'b'\"\"\"\n",
        "  res = re.search('a.+b$', string)\n",
        "  return res\n",
        "\n",
        "#example with the function match3\n",
        "text = 'ayb'\n",
        "print(match3(text))"
      ],
      "execution_count": 16,
      "outputs": [
        {
          "output_type": "stream",
          "text": [
            "<_sre.SRE_Match object; span=(0, 3), match='ayb'>\n"
          ],
          "name": "stdout"
        }
      ]
    },
    {
      "cell_type": "markdown",
      "metadata": {
        "id": "G3SkixG8uuPY",
        "colab_type": "text"
      },
      "source": [
        "4- Write a Python program that matches a word containing 'z', not start or end\n",
        "of the word"
      ]
    },
    {
      "cell_type": "code",
      "metadata": {
        "id": "bp1zRNtDhT6I",
        "colab_type": "code",
        "colab": {
          "base_uri": "https://localhost:8080/",
          "height": 35
        },
        "outputId": "39601b2d-b85d-416d-9e98-b8947d91d7c9"
      },
      "source": [
        "def match4(string):\n",
        "  res = re.search('[a-yA-Z]+z+[a-yA-Z]+$', string)\n",
        "  return res      #[a-yA-Z]+z+[a-yA-Z]+$\n",
        "\n",
        "#example with the function match4\n",
        "text = 'aaza'\n",
        "print(match4(text))"
      ],
      "execution_count": 17,
      "outputs": [
        {
          "output_type": "stream",
          "text": [
            "<_sre.SRE_Match object; span=(0, 4), match='aaza'>\n"
          ],
          "name": "stdout"
        }
      ]
    },
    {
      "cell_type": "markdown",
      "metadata": {
        "id": "W1VG2vwhuwZj",
        "colab_type": "text"
      },
      "source": [
        "5- Write a Python program to split a string with multiple delimiters"
      ]
    },
    {
      "cell_type": "code",
      "metadata": {
        "id": "quIqaG_Vhdaa",
        "colab_type": "code",
        "colab": {
          "base_uri": "https://localhost:8080/",
          "height": 35
        },
        "outputId": "d399a317-a52e-4b65-c645-b4244cea86a2"
      },
      "source": [
        "def custom_spliter(string, delimiters):\n",
        "  return re.split(delimiters, string)\n",
        "\n",
        "#example with the function custom_spliter\n",
        "text = 'mariam , joue; à ! la balle.'\n",
        "print(custom_spliter(text,', |; |!'))"
      ],
      "execution_count": 18,
      "outputs": [
        {
          "output_type": "stream",
          "text": [
            "['mariam ', 'joue', 'à ', ' la balle.']\n"
          ],
          "name": "stdout"
        }
      ]
    },
    {
      "cell_type": "markdown",
      "metadata": {
        "id": "DBcIVrHPvILk",
        "colab_type": "text"
      },
      "source": [
        "6- Write a Python program to find all adverbs and their positions in a given\n",
        "sentence (do this exercise for English adverbs and French adverbs)\n",
        "\n",
        "\n",
        "Voici les liens pour télécharger le fichier txt des adverbes.\n",
        "https://drive.google.com/file/d/1m2ZGOaDZrjyc0pf5wn0Zu0xZSvxbf4Eo/view?usp=sharing\n",
        "\n",
        "https://drive.google.com/file/d/1iUV4ZcMtIw4Pm-IUrO6Nm7zLxh0g5tpX/view?usp=sharing"
      ]
    },
    {
      "cell_type": "code",
      "metadata": {
        "id": "sy10zUUHhmzZ",
        "colab_type": "code",
        "colab": {
          "base_uri": "https://localhost:8080/",
          "height": 69
        },
        "outputId": "6f3429bb-8d6f-479b-c0dc-b5f42aacd083"
      },
      "source": [
        "en_adverbs_file = open('English_adverbs.txt')\n",
        "en_adverbs = []\n",
        "for line in en_adverbs_file:\n",
        "    en_adverbs.append(line.strip().lower())\n",
        "\n",
        "fr_adverbs_file =  open('French_adverbs.txt')\n",
        "fr_adverbs = []\n",
        "for line in fr_adverbs_file:\n",
        "    fr_adverbs.append(line.strip().lower())\n",
        "\n",
        "def find_adverbs(language):\n",
        "\tif language == 'english' :\n",
        "\t\treturn en_adverbs\n",
        "\telif language == 'french' :\n",
        "\t\treturn fr_adverbs\n",
        "\n",
        "\n",
        "def get_adverbs_by_language(string, language):\n",
        "\tif (language != 'french' and language != 'english'):\n",
        "\t\tprint('Unsupported language')\n",
        "\t\tsys.exit()\n",
        "\ttokens = nltk.word_tokenize(string, language =language)\n",
        "\tadverbs_ = find_adverbs(language)\n",
        "\tdict_adverbs = {}\n",
        "\tfor index in range(len(tokens)):\n",
        "\t\ttoken = tokens[index].strip().lower()\n",
        "\t\tif token in adverbs_:\n",
        "\t\t\tdict_adverbs[token]=(index + 1)\n",
        "\treturn dict_adverbs\n",
        "\n",
        "#example with the function get_adverbs_by_language\n",
        "text1 = 'Souvent il est faut faire des sacrefices pour la réussite d un projet.'\n",
        "text2 = 'Often it is necessary to make sacrifices for the success of a project.'\n",
        "print(get_adverbs_by_language(text1,'french'))\n",
        "print(get_adverbs_by_language(text2,'english'))\n",
        "print(get_adverbs_by_language(text2,'french'))"
      ],
      "execution_count": 19,
      "outputs": [
        {
          "output_type": "stream",
          "text": [
            "{'souvent': 1}\n",
            "{'often': 1}\n",
            "{}\n"
          ],
          "name": "stdout"
        }
      ]
    },
    {
      "cell_type": "markdown",
      "metadata": {
        "id": "d7Sd0wQpvaL3",
        "colab_type": "text"
      },
      "source": [
        "7- write a Python program to find all Dates in a text (Both French Format and\n",
        "English Format )"
      ]
    },
    {
      "cell_type": "code",
      "metadata": {
        "id": "K6a1ihGKvkWA",
        "colab_type": "code",
        "colab": {
          "base_uri": "https://localhost:8080/",
          "height": 72
        },
        "outputId": "49321631-2618-4daa-ae8d-550c64ed566b"
      },
      "source": [
        "def remove_stop_words(string):\n",
        "  text_tokens = nltk.word_tokenize(string)\n",
        "  tokens_without_sw = [word for word in text_tokens if not word in stopwords.words()]\n",
        "  return ' '.join(tokens_without_sw)\n",
        "\n",
        "\n",
        "def find_all_dates(string):\n",
        "  string = remove_stop_words(string)\n",
        "  res = search_dates(string, languages=['fr', 'en'])\n",
        "  return res #[date[0] for date in res ]\n",
        "\n",
        "#example with the function find_all_dates\n",
        "text1 = 'je suis ne le 12 janvier 1991 et la Côte d ivoire a remporté la can le 26 janvier 1992'\n",
        "text2 = 'I was born on January 12, 1991 and the Ivory Coast won the Can on January 26, 1992.'\n",
        "print(find_all_dates(text1))\n",
        "print(find_all_dates(text2))"
      ],
      "execution_count": 20,
      "outputs": [
        {
          "output_type": "stream",
          "text": [
            "[('12 janvier 1991', datetime.datetime(1991, 1, 12, 0, 0)), ('26 janvier 1992', datetime.datetime(1992, 1, 26, 0, 0))]\n",
            "[('January 12 , 1991', datetime.datetime(1991, 1, 12, 0, 0)), ('January 26 , 1992', datetime.datetime(1992, 1, 26, 0, 0))]\n"
          ],
          "name": "stdout"
        }
      ]
    }
  ]
}