{
  "nbformat": 4,
  "nbformat_minor": 0,
  "metadata": {
    "colab": {
      "name": "Untitled5.ipynb",
      "provenance": [],
      "include_colab_link": true
    },
    "kernelspec": {
      "name": "python3",
      "display_name": "Python 3"
    }
  },
  "cells": [
    {
      "cell_type": "markdown",
      "metadata": {
        "id": "view-in-github",
        "colab_type": "text"
      },
      "source": [
        "<a href=\"https://colab.research.google.com/github/soumabkargit/intro-to-machine-learning/blob/master/RGBtoHSV_HSVtoRGB.ipynb\" target=\"_parent\"><img src=\"https://colab.research.google.com/assets/colab-badge.svg\" alt=\"Open In Colab\"/></a>"
      ]
    },
    {
      "cell_type": "code",
      "metadata": {
        "id": "2A8okd1AYfSh",
        "colab_type": "code",
        "colab": {}
      },
      "source": [
        "#Import libraries\n",
        "from skimage import io\n",
        "from skimage import color\n",
        "from skimage import data\n",
        "from pylab import *\n",
        "from pydrive.auth import GoogleAuth\n",
        "from pydrive.drive import GoogleDrive\n",
        "from google.colab import auth\n",
        "from oauth2client.client import GoogleCredentials\n",
        "import pandas as pd\n",
        "\n",
        "# Authentification Google\n",
        "auth.authenticate_user()\n",
        "gauth = GoogleAuth()\n",
        "gauth.credentials = GoogleCredentials.get_application_default()\n",
        "drive = GoogleDrive(gauth)\n",
        "\n",
        "# Download du fichier\n",
        "id = '12CE5d-fmxfw9SkHD3iC58qZsjlpB4F1S'\n",
        "downloaded = drive.CreateFile({'id': '12CE5d-fmxfw9SkHD3iC58qZsjlpB4F1S'})\n",
        "downloaded.GetContentFile('test_1.jpg')\n",
        "#Lire l'image\n",
        "img = io.imread('test_1.jpg')\n",
        "#Convert to HSV\n",
        "img_hsv = color.rgb2hsv(img)\n",
        "#Convert back to RGB\n",
        "img_rgb = color.hsv2rgb(img_hsv)\n",
        "#Show both figures\n",
        "figure(0)\n",
        "io.imshow(img_hsv)\n",
        "figure(1)\n",
        "io.imshow(img_rgb)"
      ],
      "execution_count": 0,
      "outputs": []
    }
  ]
}