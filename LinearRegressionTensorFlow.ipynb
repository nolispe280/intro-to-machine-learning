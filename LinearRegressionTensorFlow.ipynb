{
  "nbformat": 4,
  "nbformat_minor": 0,
  "metadata": {
    "colab": {
      "name": "Untitled1.ipynb",
      "provenance": [],
      "include_colab_link": true
    },
    "kernelspec": {
      "name": "python3",
      "display_name": "Python 3"
    }
  },
  "cells": [
    {
      "cell_type": "markdown",
      "metadata": {
        "id": "view-in-github",
        "colab_type": "text"
      },
      "source": [
        "<a href=\"https://colab.research.google.com/github/soumabkargit/intro-to-machine-learning/blob/master/LinearRegressionTensorFlow.ipynb\" target=\"_parent\"><img src=\"https://colab.research.google.com/assets/colab-badge.svg\" alt=\"Open In Colab\"/></a>"
      ]
    },
    {
      "cell_type": "code",
      "metadata": {
        "id": "CXG5bHB_Q6aY",
        "colab_type": "code",
        "colab": {
          "base_uri": "https://localhost:8080/",
          "height": 191
        },
        "outputId": "d5529bfa-f5d5-402a-865d-0a19c4b79e6c"
      },
      "source": [
        "# import packages\n",
        "import numpy as np\n",
        "import tensorflow as tf\n",
        "from tensorflow.keras.datasets import boston_housing\n",
        "from tensorflow.keras import Model\n",
        "from sklearn.preprocessing import StandardScaler\n",
        "\n",
        "# load dataset and split in train and test sets\n",
        "(X_train, y_train), (X_test, y_test) = boston_housing.load_data()\n",
        "\n",
        "# standardize the dataset\n",
        "scaler_X_train = StandardScaler().fit(X_train)\n",
        "scaler_X_test = StandardScaler().fit(X_test)\n",
        "X_train = scaler_X_train.transform(X_train)\n",
        "X_test = scaler_X_test.transform(X_test)\n",
        "\n",
        "# reshape y-data to become column vector\n",
        "y_train = np.reshape(y_train, [-1, 1])\n",
        "y_test = np.reshape(y_test, [-1, 1])\n",
        "\n",
        "# build the linear model\n",
        "class LinearRegressionModel(Model):\n",
        "  def __init__(self):\n",
        "    super(LinearRegressionModel, self).__init__()\n",
        "    # initialize weight and bias variables\n",
        "    self.weight = tf.Variable(\n",
        "        initial_value = tf. random.normal(\n",
        "            [13, 1], dtype=tf.float64),\n",
        "        trainable=True)\n",
        "    self.bias = tf.Variable(initial_value = tf.constant(\n",
        "        1.0, shape=[], dtype=tf.float64), trainable=True)\n",
        "\n",
        "  def call(self, inputs):\n",
        "    return tf.add(tf.matmul(inputs, self.weight), self.bias)\n",
        "\n",
        "model = LinearRegressionModel()\n",
        "\n",
        "# parameters\n",
        "batch_size = 32\n",
        "learning_rate = 0.01\n",
        "\n",
        "# use tf.data to batch and shuffle the dataset\n",
        "train_ds = tf.data.Dataset.from_tensor_slices((X_train, y_train)).shuffle(len(X_train)).batch(batch_size)\n",
        "test_ds = tf.data.Dataset.from_tensor_slices((X_test, y_test)).batch(batch_size)\n",
        "\n",
        "loss_object = tf.keras.losses.MeanSquaredError()\n",
        "\n",
        "optimizer = tf.keras.optimizers.SGD(learning_rate=0.01)\n",
        "\n",
        "train_loss = tf.keras.metrics.Mean(name='train_loss')\n",
        "train_rmse = tf.keras.metrics.RootMeanSquaredError(name='train_rmse')\n",
        "\n",
        "test_loss = tf.keras.metrics.Mean(name='test_loss')\n",
        "test_rmse = tf.keras.metrics.RootMeanSquaredError(name='test_rmse')\n",
        "\n",
        "# use tf.GradientTape to train the model\n",
        "@tf.function\n",
        "def train_step(inputs, labels):\n",
        "  with tf.GradientTape() as tape:\n",
        "    predictions = model(inputs)\n",
        "    loss = loss_object(labels, predictions)\n",
        "  gradients = tape.gradient(loss, model.trainable_variables)\n",
        "  optimizer.apply_gradients(zip(gradients, model.trainable_variables))\n",
        "\n",
        "  train_loss(loss)\n",
        "  train_rmse(labels, predictions)\n",
        "\n",
        "\n",
        "@tf.function\n",
        "def test_step(inputs, labels):\n",
        "  predictions = model(inputs)\n",
        "  t_loss = loss_object(labels, predictions)\n",
        "\n",
        "  test_loss(t_loss)\n",
        "  test_rmse(labels, predictions)\n",
        "\n",
        "\n",
        "num_epochs = 1000\n",
        "\n",
        "for epoch in range(num_epochs):\n",
        "  for train_inputs, train_labels in train_ds:\n",
        "    train_step(train_inputs, train_labels)\n",
        "\n",
        "  for test_inputs, test_labels in test_ds:\n",
        "    test_step(test_inputs, test_labels)\n",
        "\n",
        "  template = 'Epoch {}, Loss: {}, RMSE: {}, Test Loss: {}, Test RMSE: {}'\n",
        "\n",
        "  if ((epoch+1) % 100 == 0):\n",
        "    print (template.format(epoch+1,\n",
        "                           train_loss.result(),\n",
        "                           train_rmse.result(),\n",
        "                           test_loss.result(),\n",
        "                           test_rmse.result()))\n"
      ],
      "execution_count": 6,
      "outputs": [
        {
          "output_type": "stream",
          "text": [
            "Epoch 100, Loss: 33.2088508605957, RMSE: 5.77750301361084, Test Loss: 38.435089111328125, Test RMSE: 5.365653991699219\n",
            "Epoch 200, Loss: 27.709814071655273, RMSE: 5.274987697601318, Test Loss: 33.93333435058594, Test RMSE: 4.978856563568115\n",
            "Epoch 300, Loss: 25.875425338745117, RMSE: 5.096312999725342, Test Loss: 32.43899154663086, Test RMSE: 4.8442840576171875\n",
            "Epoch 400, Loss: 24.958229064941406, RMSE: 5.004578113555908, Test Loss: 31.693405151367188, Test RMSE: 4.77574348449707\n",
            "Epoch 500, Loss: 24.407699584960938, RMSE: 4.948701858520508, Test Loss: 31.246257781982422, Test RMSE: 4.734169960021973\n",
            "Epoch 600, Loss: 24.04067039489746, RMSE: 4.911094665527344, Test Loss: 30.948335647583008, Test RMSE: 4.706249713897705\n",
            "Epoch 700, Loss: 23.778507232666016, RMSE: 4.884055137634277, Test Loss: 30.735572814941406, Test RMSE: 4.686212062835693\n",
            "Epoch 800, Loss: 23.581886291503906, RMSE: 4.86367654800415, Test Loss: 30.575998306274414, Test RMSE: 4.67113733291626\n",
            "Epoch 900, Loss: 23.429126739501953, RMSE: 4.847772598266602, Test Loss: 30.451885223388672, Test RMSE: 4.659378528594971\n",
            "Epoch 1000, Loss: 23.307126998901367, RMSE: 4.835032939910889, Test Loss: 30.352596282958984, Test RMSE: 4.649943828582764\n"
          ],
          "name": "stdout"
        }
      ]
    }
  ]
}